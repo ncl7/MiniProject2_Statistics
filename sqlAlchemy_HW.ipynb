from sqlalchemy.orm import sessionmaker, Session
Session = sessionmaker(bind=engine)
session = Session()

c1 = Customer(first_name = 'John',
              last_name = 'Green',
              username = 'johngreen',
              email = 'johngreen@mail.com',
              address = '164 Hidden Valley Road',
              town = 'Norfolk'
             )

c2 = Customer(
            first_name = 'Katherine',
            last_name = 'Wilson',
            username = 'katwilson',
            email = 'katwilson@gmail.com',
            address = '4685 West Side Avenue',
            town = 'Peterbrugh'
             )


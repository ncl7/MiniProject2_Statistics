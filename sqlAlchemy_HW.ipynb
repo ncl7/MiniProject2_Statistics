from sqlalchemy.orm import sessionmaker, Session
Session = sessionmaker(bind=engine)
session = Session()
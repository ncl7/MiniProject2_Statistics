from sqlalchemy.orm import sessionmaker, Session
Session = sessionmaker(bind=engine)
session = Session()

c1 = Customer(first_name = 'John',
              last_name = 'Green',
              username = 'johngreen',
              email = 'johngreen@mail.com',
              address = '164 Hidden Valley Road',
              town = 'Norfolk'
             )
